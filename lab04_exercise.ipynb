{
 "cells": [
  {
   "cell_type": "markdown",
   "metadata": {},
   "source": [
    "## Lab 04 JOINing Multiple Tables"
   ]
  },
  {
   "cell_type": "markdown",
   "metadata": {},
   "source": [
    "Once you have created the physical model, generated the SQL code, and checked that the CSV files load.  Write responses to the following queries.  Note that we are connecting to the lab04 database (not 'postgres' database)."
   ]
  },
  {
   "cell_type": "code",
   "execution_count": 23,
   "metadata": {},
   "outputs": [
    {
     "name": "stdout",
     "output_type": "stream",
     "text": [
      "The sql extension is already loaded. To reload it, use:\n",
      "  %reload_ext sql\n"
     ]
    },
    {
     "data": {
      "text/plain": [
       "'Connected: isdb@lab04'"
      ]
     },
     "execution_count": 23,
     "metadata": {},
     "output_type": "execute_result"
    }
   ],
   "source": [
    "%load_ext sql\n",
    "%sql postgres://isdb@localhost/lab04"
   ]
  },
  {
   "cell_type": "markdown",
   "metadata": {},
   "source": [
    " \n",
    "#### [Q01] Show the average grade and number of courses taken by those students with an avg grade > 2.5. ORDER BY student_id.\n",
    "\n",
    "The response requires only 1 tables --- Enrollments"
   ]
  },
  {
   "cell_type": "code",
   "execution_count": 24,
   "metadata": {},
   "outputs": [
    {
     "name": "stdout",
     "output_type": "stream",
     "text": [
      " * postgres://isdb@localhost/lab04\n",
      "7 rows affected.\n"
     ]
    },
    {
     "data": {
      "text/html": [
       "<table>\n",
       "    <tr>\n",
       "        <th>student_id</th>\n",
       "        <th>count</th>\n",
       "        <th>avg</th>\n",
       "    </tr>\n",
       "    <tr>\n",
       "        <td>148</td>\n",
       "        <td>1</td>\n",
       "        <td>3.0000000000000000</td>\n",
       "    </tr>\n",
       "    <tr>\n",
       "        <td>298</td>\n",
       "        <td>2</td>\n",
       "        <td>3.0000000000000000</td>\n",
       "    </tr>\n",
       "    <tr>\n",
       "        <td>349</td>\n",
       "        <td>1</td>\n",
       "        <td>4.0000000000000000</td>\n",
       "    </tr>\n",
       "    <tr>\n",
       "        <td>358</td>\n",
       "        <td>1</td>\n",
       "        <td>4.0000000000000000</td>\n",
       "    </tr>\n",
       "    <tr>\n",
       "        <td>558</td>\n",
       "        <td>1</td>\n",
       "        <td>3.0000000000000000</td>\n",
       "    </tr>\n",
       "    <tr>\n",
       "        <td>649</td>\n",
       "        <td>2</td>\n",
       "        <td>4.0000000000000000</td>\n",
       "    </tr>\n",
       "    <tr>\n",
       "        <td>654</td>\n",
       "        <td>1</td>\n",
       "        <td>4.0000000000000000</td>\n",
       "    </tr>\n",
       "</table>"
      ],
      "text/plain": [
       "[(148, 1, Decimal('3.0000000000000000')),\n",
       " (298, 2, Decimal('3.0000000000000000')),\n",
       " (349, 1, Decimal('4.0000000000000000')),\n",
       " (358, 1, Decimal('4.0000000000000000')),\n",
       " (558, 1, Decimal('3.0000000000000000')),\n",
       " (649, 2, Decimal('4.0000000000000000')),\n",
       " (654, 1, Decimal('4.0000000000000000'))]"
      ]
     },
     "execution_count": 24,
     "metadata": {},
     "output_type": "execute_result"
    }
   ],
   "source": [
    "%%sql \n",
    "SELECT student_id, count(section_id),avg(grade)\n",
    "FROM Enrollments \n",
    "GROUP BY student_id\n",
    "HAVING avg(grade) > 2.5\n",
    "ORDER BY student_id\n",
    "\n",
    "\n",
    "\n"
   ]
  },
  {
   "cell_type": "raw",
   "metadata": {},
   "source": [
    "+------------+-------+-------+\n",
    "| student_id | count |  avg  |\n",
    "+------------+-------+-------+\n",
    "|    148     |   1   |  3.00 |\n",
    "|    298     |   2   |  3.00 |\n",
    "|    349     |   1   |  4.00 |\n",
    "|    358     |   1   |  4.00 |\n",
    "|    558     |   1   |  3.00 |\n",
    "|    649     |   2   |  4.00 |\n",
    "|    654     |   1   |  4.00 |\n",
    "+------------+-------+-------+"
   ]
  },
  {
   "cell_type": "markdown",
   "metadata": {},
   "source": [
    "#### [Q02] Produce an alphabetized list OF student NAME, course#, AND grade received by each student in ALL the courses they took. \n",
    "\n",
    "Now we need two tables **`Students`** and **`Enrollments`**.  To the model that we already have (with only `Enrollments`) we add `Students`"
   ]
  },
  {
   "cell_type": "code",
   "execution_count": 25,
   "metadata": {},
   "outputs": [
    {
     "name": "stdout",
     "output_type": "stream",
     "text": [
      " * postgres://isdb@localhost/lab04\n",
      "18 rows affected.\n"
     ]
    },
    {
     "data": {
      "text/html": [
       "<table>\n",
       "    <tr>\n",
       "        <th>name</th>\n",
       "        <th>course_id</th>\n",
       "        <th>grade</th>\n",
       "    </tr>\n",
       "    <tr>\n",
       "        <td>Allen Thomas</td>\n",
       "        <td>290</td>\n",
       "        <td>2</td>\n",
       "    </tr>\n",
       "    <tr>\n",
       "        <td>Allen Thomas</td>\n",
       "        <td>450</td>\n",
       "        <td>3</td>\n",
       "    </tr>\n",
       "    <tr>\n",
       "        <td>Bill Jones</td>\n",
       "        <td>480</td>\n",
       "        <td>2</td>\n",
       "    </tr>\n",
       "    <tr>\n",
       "        <td>Bob Dawson</td>\n",
       "        <td>450</td>\n",
       "        <td>3</td>\n",
       "    </tr>\n",
       "    <tr>\n",
       "        <td>Bob Dawson</td>\n",
       "        <td>730</td>\n",
       "        <td>1</td>\n",
       "    </tr>\n",
       "    <tr>\n",
       "        <td>Carol Dean</td>\n",
       "        <td>450</td>\n",
       "        <td>2</td>\n",
       "    </tr>\n",
       "    <tr>\n",
       "        <td>Carol Dean</td>\n",
       "        <td>480</td>\n",
       "        <td>0</td>\n",
       "    </tr>\n",
       "    <tr>\n",
       "        <td>Carol Dean</td>\n",
       "        <td>730</td>\n",
       "        <td>3</td>\n",
       "    </tr>\n",
       "    <tr>\n",
       "        <td>Howard Mansfield</td>\n",
       "        <td>290</td>\n",
       "        <td>3</td>\n",
       "    </tr>\n",
       "    <tr>\n",
       "        <td>Howard Mansfield</td>\n",
       "        <td>480</td>\n",
       "        <td>3</td>\n",
       "    </tr>\n",
       "    <tr>\n",
       "        <td>Janet Ladd</td>\n",
       "        <td>480</td>\n",
       "        <td>4</td>\n",
       "    </tr>\n",
       "    <tr>\n",
       "        <td>Janet Thomas</td>\n",
       "        <td>450</td>\n",
       "        <td>4</td>\n",
       "    </tr>\n",
       "    <tr>\n",
       "        <td>Joe Adams</td>\n",
       "        <td>290</td>\n",
       "        <td>4</td>\n",
       "    </tr>\n",
       "    <tr>\n",
       "        <td>John Anderson</td>\n",
       "        <td>480</td>\n",
       "        <td>4</td>\n",
       "    </tr>\n",
       "    <tr>\n",
       "        <td>John Anderson</td>\n",
       "        <td>730</td>\n",
       "        <td>4</td>\n",
       "    </tr>\n",
       "    <tr>\n",
       "        <td>Susan Powell</td>\n",
       "        <td>730</td>\n",
       "        <td>3</td>\n",
       "    </tr>\n",
       "    <tr>\n",
       "        <td>Susan Pugh</td>\n",
       "        <td>730</td>\n",
       "        <td>2</td>\n",
       "    </tr>\n",
       "    <tr>\n",
       "        <td>Val Shipp</td>\n",
       "        <td>730</td>\n",
       "        <td>3</td>\n",
       "    </tr>\n",
       "</table>"
      ],
      "text/plain": [
       "[('Allen Thomas', 290, 2),\n",
       " ('Allen Thomas', 450, 3),\n",
       " ('Bill Jones', 480, 2),\n",
       " ('Bob Dawson', 450, 3),\n",
       " ('Bob Dawson', 730, 1),\n",
       " ('Carol Dean', 450, 2),\n",
       " ('Carol Dean', 480, 0),\n",
       " ('Carol Dean', 730, 3),\n",
       " ('Howard Mansfield', 290, 3),\n",
       " ('Howard Mansfield', 480, 3),\n",
       " ('Janet Ladd', 480, 4),\n",
       " ('Janet Thomas', 450, 4),\n",
       " ('Joe Adams', 290, 4),\n",
       " ('John Anderson', 480, 4),\n",
       " ('John Anderson', 730, 4),\n",
       " ('Susan Powell', 730, 3),\n",
       " ('Susan Pugh', 730, 2),\n",
       " ('Val Shipp', 730, 3)]"
      ]
     },
     "execution_count": 25,
     "metadata": {},
     "output_type": "execute_result"
    }
   ],
   "source": [
    "%%sql \n",
    "SELECT s.name, e.course_id, e.grade\n",
    "FROM Enrollments as e\n",
    "    JOIN Students as s on e.student_id = s.student_id\n",
    "GROUP BY e.student_id, s.name, e.course_id, e.grade\n",
    "ORDER BY s.name\n",
    "    \n",
    "\n",
    "\n",
    "\n",
    "\n"
   ]
  },
  {
   "cell_type": "raw",
   "metadata": {},
   "source": [
    "+------------------+-----------+-------+\n",
    "|       name       | course_id | grade |\n",
    "+------------------+-----------+-------+\n",
    "|   Allen Thomas   |    450    |  3.0  |\n",
    "|   Allen Thomas   |    290    |  2.0  |\n",
    "|    Bill Jones    |    480    |  2.0  |\n",
    "|    Bob Dawson    |    450    |  3.0  |\n",
    "|    Bob Dawson    |    730    |  1.0  |\n",
    "|    Carol Dean    |    450    |  2.0  |\n",
    "|    Carol Dean    |    730    |  3.0  |\n",
    "|    Carol Dean    |    480    |  0.0  |\n",
    "| Howard Mansfield |    480    |  3.0  |\n",
    "| Howard Mansfield |    290    |  3.0  |\n",
    "|    Janet Ladd    |    480    |  4.0  |\n",
    "|   Janet Thomas   |    450    |  4.0  |\n",
    "|    Joe Adams     |    290    |  4.0  |\n",
    "|  John Anderson   |    730    |  4.0  |\n",
    "|  John Anderson   |    480    |  4.0  |\n",
    "|   Susan Powell   |    730    |  3.0  |\n",
    "|    Susan Pugh    |    730    |  2.0  |\n",
    "|    Val Shipp     |    730    |  3.0  |\n",
    "+------------------+-----------+-------+"
   ]
  },
  {
   "cell_type": "markdown",
   "metadata": {},
   "source": [
    "#### [Q03] How many students of each gender are enrolled in Calculus IV? \n",
    "\n",
    "Now we are on a roll...  The query needs three tables.  The only new tables is `Courses`\n",
    "\n",
    "**`Students + Enrollments + Courses`**"
   ]
  },
  {
   "cell_type": "code",
   "execution_count": 26,
   "metadata": {},
   "outputs": [
    {
     "name": "stdout",
     "output_type": "stream",
     "text": [
      " * postgres://isdb@localhost/lab04\n",
      "2 rows affected.\n"
     ]
    },
    {
     "data": {
      "text/html": [
       "<table>\n",
       "    <tr>\n",
       "        <th>gender</th>\n",
       "        <th>count</th>\n",
       "    </tr>\n",
       "    <tr>\n",
       "        <td>F</td>\n",
       "        <td>4</td>\n",
       "    </tr>\n",
       "    <tr>\n",
       "        <td>M</td>\n",
       "        <td>2</td>\n",
       "    </tr>\n",
       "</table>"
      ],
      "text/plain": [
       "[('F', 4), ('M', 2)]"
      ]
     },
     "execution_count": 26,
     "metadata": {},
     "output_type": "execute_result"
    }
   ],
   "source": [
    "%%sql\n",
    "SELECT s.gender, count(s.student_id)\n",
    "FROM Enrollments as e\n",
    "JOIN Students as s on e.student_id = s.student_id\n",
    "JOIN Courses as c on e.course_id = c.course_id\n",
    "WHERE c.title = 'Calculus IV'\n",
    "GROUP BY s.gender\n",
    "\n",
    "\n",
    "\n"
   ]
  },
  {
   "cell_type": "raw",
   "metadata": {},
   "source": [
    "+--------+-------+\n",
    "| gender | count |\n",
    "+--------+-------+\n",
    "|   F    |   4   |\n",
    "|   M    |   2   |\n",
    "+--------+-------+"
   ]
  },
  {
   "cell_type": "markdown",
   "metadata": {},
   "source": [
    "**Why stop now when we are having all this fun ... lets go for the whole enchilada ... join all five tables!**\n",
    "\n",
    "#### [Q04]  Produce a roster for each course by instructor, listing the course title, sections they teach along with the names of all students enrolled in EACH. ORDER the roster BY teacher name.\n",
    "\n",
    "**`Instructors + Sections + Courses + Enrollments + Students`**\n",
    "\n",
    "If this query works correctly then your model is correct.  Give yourself a pat on th back :-)"
   ]
  },
  {
   "cell_type": "code",
   "execution_count": 27,
   "metadata": {},
   "outputs": [
    {
     "name": "stdout",
     "output_type": "stream",
     "text": [
      " * postgres://isdb@localhost/lab04\n",
      "18 rows affected.\n"
     ]
    },
    {
     "data": {
      "text/html": [
       "<table>\n",
       "    <tr>\n",
       "        <th>name</th>\n",
       "        <th>title</th>\n",
       "        <th>section_id</th>\n",
       "        <th>name_1</th>\n",
       "    </tr>\n",
       "    <tr>\n",
       "        <td>Dr. Cooke</td>\n",
       "        <td>Compiler Writing</td>\n",
       "        <td>1</td>\n",
       "        <td>John Anderson</td>\n",
       "    </tr>\n",
       "    <tr>\n",
       "        <td>Dr. Cooke</td>\n",
       "        <td>Compiler Writing</td>\n",
       "        <td>1</td>\n",
       "        <td>Bill Jones</td>\n",
       "    </tr>\n",
       "    <tr>\n",
       "        <td>Dr. Cooke</td>\n",
       "        <td>Compiler Writing</td>\n",
       "        <td>1</td>\n",
       "        <td>Janet Ladd</td>\n",
       "    </tr>\n",
       "    <tr>\n",
       "        <td>Dr. Engle</td>\n",
       "        <td>English Composition</td>\n",
       "        <td>1</td>\n",
       "        <td>Howard Mansfield</td>\n",
       "    </tr>\n",
       "    <tr>\n",
       "        <td>Dr. Engle</td>\n",
       "        <td>English Composition</td>\n",
       "        <td>1</td>\n",
       "        <td>Joe Adams</td>\n",
       "    </tr>\n",
       "    <tr>\n",
       "        <td>Dr. Engle</td>\n",
       "        <td>English Composition</td>\n",
       "        <td>1</td>\n",
       "        <td>Allen Thomas</td>\n",
       "    </tr>\n",
       "    <tr>\n",
       "        <td>Dr. Horn</td>\n",
       "        <td>Western Civilization</td>\n",
       "        <td>1</td>\n",
       "        <td>Janet Thomas</td>\n",
       "    </tr>\n",
       "    <tr>\n",
       "        <td>Dr. Horn</td>\n",
       "        <td>Western Civilization</td>\n",
       "        <td>1</td>\n",
       "        <td>Carol Dean</td>\n",
       "    </tr>\n",
       "    <tr>\n",
       "        <td>Dr. Lowe</td>\n",
       "        <td>Calculus IV</td>\n",
       "        <td>1</td>\n",
       "        <td>John Anderson</td>\n",
       "    </tr>\n",
       "    <tr>\n",
       "        <td>Dr. Lowe</td>\n",
       "        <td>Calculus IV</td>\n",
       "        <td>1</td>\n",
       "        <td>Bob Dawson</td>\n",
       "    </tr>\n",
       "    <tr>\n",
       "        <td>Dr. Lowe</td>\n",
       "        <td>Calculus IV</td>\n",
       "        <td>1</td>\n",
       "        <td>Susan Pugh</td>\n",
       "    </tr>\n",
       "    <tr>\n",
       "        <td>Dr. Lowe</td>\n",
       "        <td>Calculus IV</td>\n",
       "        <td>1</td>\n",
       "        <td>Carol Dean</td>\n",
       "    </tr>\n",
       "    <tr>\n",
       "        <td>Dr. Lowe</td>\n",
       "        <td>Calculus IV</td>\n",
       "        <td>1</td>\n",
       "        <td>Val Shipp</td>\n",
       "    </tr>\n",
       "    <tr>\n",
       "        <td>Dr. Lowe</td>\n",
       "        <td>Calculus IV</td>\n",
       "        <td>1</td>\n",
       "        <td>Susan Powell</td>\n",
       "    </tr>\n",
       "    <tr>\n",
       "        <td>Dr. Olsen</td>\n",
       "        <td>Western Civilization</td>\n",
       "        <td>2</td>\n",
       "        <td>Bob Dawson</td>\n",
       "    </tr>\n",
       "    <tr>\n",
       "        <td>Dr. Olsen</td>\n",
       "        <td>Western Civilization</td>\n",
       "        <td>2</td>\n",
       "        <td>Allen Thomas</td>\n",
       "    </tr>\n",
       "    <tr>\n",
       "        <td>Dr. Scango</td>\n",
       "        <td>Compiler Writing</td>\n",
       "        <td>2</td>\n",
       "        <td>Howard Mansfield</td>\n",
       "    </tr>\n",
       "    <tr>\n",
       "        <td>Dr. Scango</td>\n",
       "        <td>Compiler Writing</td>\n",
       "        <td>2</td>\n",
       "        <td>Carol Dean</td>\n",
       "    </tr>\n",
       "</table>"
      ],
      "text/plain": [
       "[('Dr. Cooke', 'Compiler Writing', 1, 'John Anderson'),\n",
       " ('Dr. Cooke', 'Compiler Writing', 1, 'Bill Jones'),\n",
       " ('Dr. Cooke', 'Compiler Writing', 1, 'Janet Ladd'),\n",
       " ('Dr. Engle', 'English Composition', 1, 'Howard Mansfield'),\n",
       " ('Dr. Engle', 'English Composition', 1, 'Joe Adams'),\n",
       " ('Dr. Engle', 'English Composition', 1, 'Allen Thomas'),\n",
       " ('Dr. Horn', 'Western Civilization', 1, 'Janet Thomas'),\n",
       " ('Dr. Horn', 'Western Civilization', 1, 'Carol Dean'),\n",
       " ('Dr. Lowe', 'Calculus IV', 1, 'John Anderson'),\n",
       " ('Dr. Lowe', 'Calculus IV', 1, 'Bob Dawson'),\n",
       " ('Dr. Lowe', 'Calculus IV', 1, 'Susan Pugh'),\n",
       " ('Dr. Lowe', 'Calculus IV', 1, 'Carol Dean'),\n",
       " ('Dr. Lowe', 'Calculus IV', 1, 'Val Shipp'),\n",
       " ('Dr. Lowe', 'Calculus IV', 1, 'Susan Powell'),\n",
       " ('Dr. Olsen', 'Western Civilization', 2, 'Bob Dawson'),\n",
       " ('Dr. Olsen', 'Western Civilization', 2, 'Allen Thomas'),\n",
       " ('Dr. Scango', 'Compiler Writing', 2, 'Howard Mansfield'),\n",
       " ('Dr. Scango', 'Compiler Writing', 2, 'Carol Dean')]"
      ]
     },
     "execution_count": 27,
     "metadata": {},
     "output_type": "execute_result"
    }
   ],
   "source": [
    "%%sql\n",
    "SELECT i.name, c.title, s.section_id, st.name\n",
    "FROM Enrollments as e\n",
    "    JOIN Students as st on e.student_id = st.student_id\n",
    "    JOIN Sections as s on e.section_id = s.section_id \n",
    "    and e.course_id = s.course_id\n",
    "    JOIN Courses as c on e.course_id = c.course_id\n",
    "    JOIN Instructors as i on s.instructor_id = i.instructor_id\n",
    "ORDER BY i.name\n",
    "\n",
    "\n",
    "\n",
    "\n",
    "\n"
   ]
  },
  {
   "cell_type": "raw",
   "metadata": {},
   "source": [
    "+------------+----------------------+------------+------------------+\n",
    "|    name    |        title         | section_id |      name_1      |\n",
    "+------------+----------------------+------------+------------------+\n",
    "| Dr. Cooke  |   Compiler Writing   |     1      |    Janet Ladd    |\n",
    "| Dr. Cooke  |   Compiler Writing   |     1      |    Bill Jones    |\n",
    "| Dr. Cooke  |   Compiler Writing   |     1      |  John Anderson   |\n",
    "| Dr. Engle  | English Composition  |     1      |    Joe Adams     |\n",
    "| Dr. Engle  | English Composition  |     1      |   Allen Thomas   |\n",
    "| Dr. Engle  | English Composition  |     1      | Howard Mansfield |\n",
    "|  Dr. Horn  | Western Civilization |     1      |   Janet Thomas   |\n",
    "|  Dr. Horn  | Western Civilization |     1      |    Carol Dean    |\n",
    "|  Dr. Lowe  |     Calculus IV      |     1      |   Susan Powell   |\n",
    "|  Dr. Lowe  |     Calculus IV      |     1      |    Bob Dawson    |\n",
    "|  Dr. Lowe  |     Calculus IV      |     1      |    Susan Pugh    |\n",
    "|  Dr. Lowe  |     Calculus IV      |     1      |    Carol Dean    |\n",
    "|  Dr. Lowe  |     Calculus IV      |     1      |    Val Shipp     |\n",
    "|  Dr. Lowe  |     Calculus IV      |     1      |  John Anderson   |\n",
    "| Dr. Olsen  | Western Civilization |     2      |   Allen Thomas   |\n",
    "| Dr. Olsen  | Western Civilization |     2      |    Bob Dawson    |\n",
    "| Dr. Scango |   Compiler Writing   |     2      |    Carol Dean    |\n",
    "| Dr. Scango |   Compiler Writing   |     2      | Howard Mansfield |\n",
    "+------------+----------------------+------------+------------------+\n"
   ]
  },
  {
   "cell_type": "markdown",
   "metadata": {},
   "source": [
    "## ANY, ALL, EXISTS\n",
    "\n",
    "In the following three queries we look at the use of three SQL constructs `ANY`, `ALL`, and `EXISTS`.  These constructs can be used to produce more succinct queries which other wise may have required a temporary table.\n",
    "\n",
    "Search on the web for documentation about these constructs.  \n"
   ]
  },
  {
   "cell_type": "markdown",
   "metadata": {},
   "source": [
    "**[Q 05] Which students received Bs in any course?**"
   ]
  },
  {
   "cell_type": "markdown",
   "metadata": {},
   "source": [
    "Traditionally we would have used `IN`"
   ]
  },
  {
   "cell_type": "code",
   "execution_count": 28,
   "metadata": {},
   "outputs": [
    {
     "name": "stdout",
     "output_type": "stream",
     "text": [
      " * postgres://isdb@localhost/lab04\n",
      "6 rows affected.\n"
     ]
    },
    {
     "data": {
      "text/html": [
       "<table>\n",
       "    <tr>\n",
       "        <th>name</th>\n",
       "    </tr>\n",
       "    <tr>\n",
       "        <td>Susan Powell</td>\n",
       "    </tr>\n",
       "    <tr>\n",
       "        <td>Bob Dawson</td>\n",
       "    </tr>\n",
       "    <tr>\n",
       "        <td>Howard Mansfield</td>\n",
       "    </tr>\n",
       "    <tr>\n",
       "        <td>Carol Dean</td>\n",
       "    </tr>\n",
       "    <tr>\n",
       "        <td>Allen Thomas</td>\n",
       "    </tr>\n",
       "    <tr>\n",
       "        <td>Val Shipp</td>\n",
       "    </tr>\n",
       "</table>"
      ],
      "text/plain": [
       "[('Susan Powell',),\n",
       " ('Bob Dawson',),\n",
       " ('Howard Mansfield',),\n",
       " ('Carol Dean',),\n",
       " ('Allen Thomas',),\n",
       " ('Val Shipp',)]"
      ]
     },
     "execution_count": 28,
     "metadata": {},
     "output_type": "execute_result"
    }
   ],
   "source": [
    "%%sql\n",
    "\n",
    "SELECT s.name\n",
    "  FROM Students as s\n",
    " WHERE student_id IN\n",
    "      (SELECT student_id \n",
    "         FROM Enrollments as e\n",
    "        WHERE e.grade = 3)"
   ]
  },
  {
   "cell_type": "markdown",
   "metadata": {},
   "source": [
    "Redo this query using `ANY`.  It requires only a small change.  But recall that the comparison operaotr before the `ANY` can be any relational operator. Compare your answer using `ANY` with that above using `IN`."
   ]
  },
  {
   "cell_type": "code",
   "execution_count": 29,
   "metadata": {},
   "outputs": [
    {
     "name": "stdout",
     "output_type": "stream",
     "text": [
      " * postgres://isdb@localhost/lab04\n",
      "6 rows affected.\n"
     ]
    },
    {
     "data": {
      "text/html": [
       "<table>\n",
       "    <tr>\n",
       "        <th>name</th>\n",
       "    </tr>\n",
       "    <tr>\n",
       "        <td>Susan Powell</td>\n",
       "    </tr>\n",
       "    <tr>\n",
       "        <td>Bob Dawson</td>\n",
       "    </tr>\n",
       "    <tr>\n",
       "        <td>Howard Mansfield</td>\n",
       "    </tr>\n",
       "    <tr>\n",
       "        <td>Carol Dean</td>\n",
       "    </tr>\n",
       "    <tr>\n",
       "        <td>Allen Thomas</td>\n",
       "    </tr>\n",
       "    <tr>\n",
       "        <td>Val Shipp</td>\n",
       "    </tr>\n",
       "</table>"
      ],
      "text/plain": [
       "[('Susan Powell',),\n",
       " ('Bob Dawson',),\n",
       " ('Howard Mansfield',),\n",
       " ('Carol Dean',),\n",
       " ('Allen Thomas',),\n",
       " ('Val Shipp',)]"
      ]
     },
     "execution_count": 29,
     "metadata": {},
     "output_type": "execute_result"
    }
   ],
   "source": [
    "%%sql\n",
    "SELECT s.name\n",
    "  FROM Students as s\n",
    " WHERE student_id = ANY\n",
    "      (SELECT student_id \n",
    "         FROM Enrollments as e\n",
    "        WHERE e.grade = 3)\n",
    "\n",
    "\n",
    "\n",
    "\n",
    "\n"
   ]
  },
  {
   "cell_type": "markdown",
   "metadata": {},
   "source": [
    "**[Q 06] Which courses have only male students?**\n",
    "\n",
    "Produce a list of genders for all courses and check to see if 'M' is equal to all of the genders"
   ]
  },
  {
   "cell_type": "code",
   "execution_count": 33,
   "metadata": {},
   "outputs": [
    {
     "name": "stdout",
     "output_type": "stream",
     "text": [
      " * postgres://isdb@localhost/lab04\n",
      "2 rows affected.\n"
     ]
    },
    {
     "data": {
      "text/html": [
       "<table>\n",
       "    <tr>\n",
       "        <th>title</th>\n",
       "    </tr>\n",
       "    <tr>\n",
       "        <td>English Composition</td>\n",
       "    </tr>\n",
       "    <tr>\n",
       "        <td>Art History</td>\n",
       "    </tr>\n",
       "</table>"
      ],
      "text/plain": [
       "[('English Composition',), ('Art History',)]"
      ]
     },
     "execution_count": 33,
     "metadata": {},
     "output_type": "execute_result"
    }
   ],
   "source": [
    "%%sql\n",
    "SELECT c.title\n",
    "FROM Courses as c\n",
    "WHERE 'M' = ALL(SELECT gender\n",
    "                    FROM Enrollments as e \n",
    "                    JOIN Courses as c1 on e.course_id = c1.course_id \n",
    "                    JOIN Students as s on e.student_id = s.student_id\n",
    "                     WHERE c.course_id = c1.course_id)\n",
    "\n",
    "\n",
    "\n",
    "\n",
    "\n"
   ]
  },
  {
   "cell_type": "raw",
   "metadata": {},
   "source": [
    "+---------------------+\n",
    "|        title        |\n",
    "+---------------------+\n",
    "|     Art History     |\n",
    "| English Composition |\n",
    "+---------------------+"
   ]
  },
  {
   "cell_type": "markdown",
   "metadata": {},
   "source": [
    "**[Q 07] List all students whose average grade is greater than the lowest average grade i.e., list everyone but the person with the lowest average grade.**\n",
    "\n",
    "Based on our approach to SQL queries so far, we would calculate the lowest average grade across all students and use that to filter the students.  But to calculate the lowest average grade across all students we need to (1) calculate the average grade for all students in one query, and stash the result in a temporary table and (2) from the temporary table determine the lowest average grade (which happens to be 1.666) (3) filter the students table.\n",
    "\n",
    "Using the ANY  operator we can avoid a temporary table.\n",
    "\n",
    "We only need to determine (1) the average grade for all students and then filter the students table so that the average grade of a student is greater an ANY of the values in the table from 1"
   ]
  },
  {
   "cell_type": "code",
   "execution_count": 34,
   "metadata": {},
   "outputs": [
    {
     "name": "stdout",
     "output_type": "stream",
     "text": [
      " * postgres://isdb@localhost/lab04\n",
      "Done.\n",
      "Done.\n",
      "11 rows affected.\n"
     ]
    },
    {
     "data": {
      "text/html": [
       "<table>\n",
       "    <tr>\n",
       "        <th>name</th>\n",
       "        <th>avg</th>\n",
       "    </tr>\n",
       "    <tr>\n",
       "        <td>Allen Thomas</td>\n",
       "        <td>2.5000000000000000</td>\n",
       "    </tr>\n",
       "    <tr>\n",
       "        <td>Bill Jones</td>\n",
       "        <td>2.0000000000000000</td>\n",
       "    </tr>\n",
       "    <tr>\n",
       "        <td>Bob Dawson</td>\n",
       "        <td>2.0000000000000000</td>\n",
       "    </tr>\n",
       "    <tr>\n",
       "        <td>Howard Mansfield</td>\n",
       "        <td>3.0000000000000000</td>\n",
       "    </tr>\n",
       "    <tr>\n",
       "        <td>Janet Ladd</td>\n",
       "        <td>4.0000000000000000</td>\n",
       "    </tr>\n",
       "    <tr>\n",
       "        <td>Janet Thomas</td>\n",
       "        <td>4.0000000000000000</td>\n",
       "    </tr>\n",
       "    <tr>\n",
       "        <td>Joe Adams</td>\n",
       "        <td>4.0000000000000000</td>\n",
       "    </tr>\n",
       "    <tr>\n",
       "        <td>John Anderson</td>\n",
       "        <td>4.0000000000000000</td>\n",
       "    </tr>\n",
       "    <tr>\n",
       "        <td>Susan Powell</td>\n",
       "        <td>3.0000000000000000</td>\n",
       "    </tr>\n",
       "    <tr>\n",
       "        <td>Susan Pugh</td>\n",
       "        <td>2.0000000000000000</td>\n",
       "    </tr>\n",
       "    <tr>\n",
       "        <td>Val Shipp</td>\n",
       "        <td>3.0000000000000000</td>\n",
       "    </tr>\n",
       "</table>"
      ],
      "text/plain": [
       "[('Allen Thomas', Decimal('2.5000000000000000')),\n",
       " ('Bill Jones', Decimal('2.0000000000000000')),\n",
       " ('Bob Dawson', Decimal('2.0000000000000000')),\n",
       " ('Howard Mansfield', Decimal('3.0000000000000000')),\n",
       " ('Janet Ladd', Decimal('4.0000000000000000')),\n",
       " ('Janet Thomas', Decimal('4.0000000000000000')),\n",
       " ('Joe Adams', Decimal('4.0000000000000000')),\n",
       " ('John Anderson', Decimal('4.0000000000000000')),\n",
       " ('Susan Powell', Decimal('3.0000000000000000')),\n",
       " ('Susan Pugh', Decimal('2.0000000000000000')),\n",
       " ('Val Shipp', Decimal('3.0000000000000000'))]"
      ]
     },
     "execution_count": 34,
     "metadata": {},
     "output_type": "execute_result"
    }
   ],
   "source": [
    "%%sql\n",
    "\n",
    "-- Our approach so far ...\n",
    "\n",
    "DROP VIEW IF EXISTS V1;\n",
    "\n",
    "CREATE VIEW V1 AS\n",
    "    SELECT avg(e.grade)\n",
    "      FROM Students as s\n",
    "           JOIN Enrollments as e ON s.student_id = e.student_id\n",
    "  GROUP BY s.name;\n",
    "\n",
    "  SELECT s.name, avg(e.grade)\n",
    "    FROM Students as s\n",
    "    JOIN Enrollments as e ON s.student_id = e.student_id\n",
    "   GROUP BY s.name\n",
    "  HAVING avg(e.grade) > (SELECT min(avg) FROM V1)\n",
    "   ORDER BY s.name ASC\n",
    "\n"
   ]
  },
  {
   "cell_type": "code",
   "execution_count": 35,
   "metadata": {},
   "outputs": [
    {
     "name": "stdout",
     "output_type": "stream",
     "text": [
      " * postgres://isdb@localhost/lab04\n",
      "12 rows affected.\n"
     ]
    },
    {
     "data": {
      "text/html": [
       "<table>\n",
       "    <tr>\n",
       "        <th>avg</th>\n",
       "    </tr>\n",
       "    <tr>\n",
       "        <td>1.6666666666666667</td>\n",
       "    </tr>\n",
       "    <tr>\n",
       "        <td>2.0000000000000000</td>\n",
       "    </tr>\n",
       "    <tr>\n",
       "        <td>4.0000000000000000</td>\n",
       "    </tr>\n",
       "    <tr>\n",
       "        <td>2.0000000000000000</td>\n",
       "    </tr>\n",
       "    <tr>\n",
       "        <td>4.0000000000000000</td>\n",
       "    </tr>\n",
       "    <tr>\n",
       "        <td>3.0000000000000000</td>\n",
       "    </tr>\n",
       "    <tr>\n",
       "        <td>3.0000000000000000</td>\n",
       "    </tr>\n",
       "    <tr>\n",
       "        <td>2.0000000000000000</td>\n",
       "    </tr>\n",
       "    <tr>\n",
       "        <td>4.0000000000000000</td>\n",
       "    </tr>\n",
       "    <tr>\n",
       "        <td>2.5000000000000000</td>\n",
       "    </tr>\n",
       "    <tr>\n",
       "        <td>4.0000000000000000</td>\n",
       "    </tr>\n",
       "    <tr>\n",
       "        <td>3.0000000000000000</td>\n",
       "    </tr>\n",
       "</table>"
      ],
      "text/plain": [
       "[(Decimal('1.6666666666666667'),),\n",
       " (Decimal('2.0000000000000000'),),\n",
       " (Decimal('4.0000000000000000'),),\n",
       " (Decimal('2.0000000000000000'),),\n",
       " (Decimal('4.0000000000000000'),),\n",
       " (Decimal('3.0000000000000000'),),\n",
       " (Decimal('3.0000000000000000'),),\n",
       " (Decimal('2.0000000000000000'),),\n",
       " (Decimal('4.0000000000000000'),),\n",
       " (Decimal('2.5000000000000000'),),\n",
       " (Decimal('4.0000000000000000'),),\n",
       " (Decimal('3.0000000000000000'),)]"
      ]
     },
     "execution_count": 35,
     "metadata": {},
     "output_type": "execute_result"
    }
   ],
   "source": [
    "%%sql\n",
    "\n",
    "-- we want to filter in all students whose avg grade is greater\n",
    "-- than any grade in the below table\n",
    "\n",
    "SELECT avg(grade)\n",
    "        FROM Enrollments as e2 \n",
    "       GROUP BY e2.student_id       \n",
    "        "
   ]
  },
  {
   "cell_type": "markdown",
   "metadata": {},
   "source": [
    "The improved version using ANY.  As before calculate the avg grade for a student and include the student only if average is greater and any of the student averages.  This effectively will include everyone but the person with the lowest average. Compare your answer with the answer from the query using a temporary table."
   ]
  },
  {
   "cell_type": "code",
   "execution_count": 37,
   "metadata": {},
   "outputs": [
    {
     "name": "stdout",
     "output_type": "stream",
     "text": [
      " * postgres://isdb@localhost/lab04\n",
      "11 rows affected.\n"
     ]
    },
    {
     "data": {
      "text/html": [
       "<table>\n",
       "    <tr>\n",
       "        <th>name</th>\n",
       "        <th>avg</th>\n",
       "    </tr>\n",
       "    <tr>\n",
       "        <td>Allen Thomas</td>\n",
       "        <td>2.5000000000000000</td>\n",
       "    </tr>\n",
       "    <tr>\n",
       "        <td>Bill Jones</td>\n",
       "        <td>2.0000000000000000</td>\n",
       "    </tr>\n",
       "    <tr>\n",
       "        <td>Bob Dawson</td>\n",
       "        <td>2.0000000000000000</td>\n",
       "    </tr>\n",
       "    <tr>\n",
       "        <td>Howard Mansfield</td>\n",
       "        <td>3.0000000000000000</td>\n",
       "    </tr>\n",
       "    <tr>\n",
       "        <td>Janet Ladd</td>\n",
       "        <td>4.0000000000000000</td>\n",
       "    </tr>\n",
       "    <tr>\n",
       "        <td>Janet Thomas</td>\n",
       "        <td>4.0000000000000000</td>\n",
       "    </tr>\n",
       "    <tr>\n",
       "        <td>Joe Adams</td>\n",
       "        <td>4.0000000000000000</td>\n",
       "    </tr>\n",
       "    <tr>\n",
       "        <td>John Anderson</td>\n",
       "        <td>4.0000000000000000</td>\n",
       "    </tr>\n",
       "    <tr>\n",
       "        <td>Susan Powell</td>\n",
       "        <td>3.0000000000000000</td>\n",
       "    </tr>\n",
       "    <tr>\n",
       "        <td>Susan Pugh</td>\n",
       "        <td>2.0000000000000000</td>\n",
       "    </tr>\n",
       "    <tr>\n",
       "        <td>Val Shipp</td>\n",
       "        <td>3.0000000000000000</td>\n",
       "    </tr>\n",
       "</table>"
      ],
      "text/plain": [
       "[('Allen Thomas', Decimal('2.5000000000000000')),\n",
       " ('Bill Jones', Decimal('2.0000000000000000')),\n",
       " ('Bob Dawson', Decimal('2.0000000000000000')),\n",
       " ('Howard Mansfield', Decimal('3.0000000000000000')),\n",
       " ('Janet Ladd', Decimal('4.0000000000000000')),\n",
       " ('Janet Thomas', Decimal('4.0000000000000000')),\n",
       " ('Joe Adams', Decimal('4.0000000000000000')),\n",
       " ('John Anderson', Decimal('4.0000000000000000')),\n",
       " ('Susan Powell', Decimal('3.0000000000000000')),\n",
       " ('Susan Pugh', Decimal('2.0000000000000000')),\n",
       " ('Val Shipp', Decimal('3.0000000000000000'))]"
      ]
     },
     "execution_count": 37,
     "metadata": {},
     "output_type": "execute_result"
    }
   ],
   "source": [
    "%%sql\n",
    "SELECT s.name, avg(e.grade)\n",
    "FROM Enrollments as e\n",
    "     JOIN Students as s on e.student_id = s.student_id\n",
    "GROUP BY s.name\n",
    "HAVING avg(e.grade) > ANY (SELECT avg(grade)\n",
    "                            FROM Enrollments as e2 \n",
    "                           GROUP BY e2.student_id)\n",
    "ORDER BY s.name\n",
    "\n",
    "\n",
    "\n",
    "\n",
    "\n",
    "\n",
    "\n"
   ]
  },
  {
   "cell_type": "code",
   "execution_count": null,
   "metadata": {},
   "outputs": [],
   "source": []
  }
 ],
 "metadata": {
  "kernelspec": {
   "display_name": "Python 3",
   "language": "python",
   "name": "python3"
  },
  "language_info": {
   "codemirror_mode": {
    "name": "ipython",
    "version": 3
   },
   "file_extension": ".py",
   "mimetype": "text/x-python",
   "name": "python",
   "nbconvert_exporter": "python",
   "pygments_lexer": "ipython3",
   "version": "3.7.3"
  }
 },
 "nbformat": 4,
 "nbformat_minor": 1
}
